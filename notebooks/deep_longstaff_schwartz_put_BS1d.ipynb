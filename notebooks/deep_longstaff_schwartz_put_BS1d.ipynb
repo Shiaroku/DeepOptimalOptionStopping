{
 "cells": [
  {
   "cell_type": "code",
   "execution_count": 1,
   "id": "44f28e3d-80ab-4a08-a928-96bfc77b58b3",
   "metadata": {},
   "outputs": [],
   "source": [
    "import numpy as np\n",
    "from scipy import stats\n",
    "import matplotlib.pyplot as plt\n",
    "import seaborn as sns\n",
    "sns.set_theme() \n",
    "from numpy.random import default_rng\n",
    "rng = default_rng()"
   ]
  },
  {
   "cell_type": "code",
   "execution_count": 2,
   "id": "b036e38d-b7e4-4481-8c9c-ca50495e6e7e",
   "metadata": {},
   "outputs": [],
   "source": [
    "def monte_carlo(sample, proba = 0.95):\n",
    "    mean = np.mean(sample)\n",
    "    var = np.var(sample, ddof=1)\n",
    "    alpha = 1 - proba \n",
    "    quantile = stats.norm.ppf(1 - alpha/2)  # fonction quantile \n",
    "    ci_size = quantile * np.sqrt(var / sample.size)\n",
    "    result = { 'mean': mean, 'var': var, \n",
    "               'lower': mean - ci_size, \n",
    "               'upper': mean + ci_size }\n",
    "    return result"
   ]
  },
  {
   "cell_type": "code",
   "execution_count": 3,
   "id": "893bfd44-77e9-43dd-9265-465a9dee44e0",
   "metadata": {},
   "outputs": [],
   "source": [
    "import torch\n",
    "import torch.nn as nn\n",
    "from tqdm import tqdm"
   ]
  },
  {
   "cell_type": "markdown",
   "id": "8b1fb65d-744d-48a0-89ca-a8d201d8ed06",
   "metadata": {},
   "source": [
    "# 1D Black-Scholes Model, Bermudan Put Option\n",
    "\n",
    "Let $(S_t)_{t \\in [0,T]}$ be a Black-Scholes (geometric Brownian motion) process with parameters $r$, $\\sigma$, and initial value $x_0 > 0$, that is,\n",
    "$$\n",
    "    S_t = x_0 e^{(r-\\frac{\\sigma^2}{2}) t + \\sigma W_t}\n",
    "$$\n",
    "where $(W_t)_{t \\in [0,T]}$ is a standard Brownian motion.\n",
    "\n",
    "We consider fixed discrete dates $t_n = n \\frac{T}{N}$ for $n = 0, \\dots, N$. The asset value at the times $t_n$ forms a Markov chain denoted by $(X_n)_{n = 0,\\dots,N}$, that is,\n",
    "$$\n",
    "    \\forall n=0, \\dots, N, \\quad X_n = S_{t_n}\n",
    "$$\n",
    "The Bermudan put option is an option that can be exercised at any date $t_n$. If exercised at $t_n$, the associated payoff is\n",
    "$$\n",
    "    Z_n = \\varphi(n, X_n) = e^{-r n \\frac{T}{N}} (K - X_n)_+.\n",
    "$$\n",
    "\n",
    "We are interested in the discrete-time optimal stopping problem\n",
    "$$\n",
    "    V_0(x_0) = \\sup_{\\tau \\in \\mathcal{T}_0} \\mathbf{E}\\big[ Z_\\tau \\big]\n",
    "    = \\sup_{\\tau \\in \\mathcal{T}_0} \\mathbf{E}\\big[ \\varphi(\\tau, X_\\tau) \\big],\n",
    "$$\n",
    "where $\\mathcal{T}_0$ is the set of stopping times taking values in $\\{0,\\dots,N\\}$.\n"
   ]
  },
  {
   "cell_type": "code",
   "execution_count": 4,
   "id": "2cf7b92a-d84e-4a9b-8962-d8548e144c54",
   "metadata": {},
   "outputs": [],
   "source": [
    "r = 0.1\n",
    "sigma = 0.25\n",
    "x0 = 100\n",
    "K = 110\n",
    "N, T = 10, 1"
   ]
  },
  {
   "cell_type": "code",
   "execution_count": 5,
   "id": "de5bb5f8-4049-4472-a429-e817a406caa7",
   "metadata": {},
   "outputs": [],
   "source": [
    "def simu_BS1d(size_path, size_sample): \n",
    "    h = T/size_path\n",
    "    brown_acc = np.sqrt(h)*rng.standard_normal(size=(size_path, size_sample))\n",
    "    sample = np.zeros(shape=(size_path+1, size_sample))\n",
    "    sample[0] = x0\n",
    "    for n in range(1, size_path+1):\n",
    "        sample[n] = sample[n-1] * np.exp((r - 0.5 * sigma**2)*h + sigma*brown_acc[n-1])\n",
    "    return sample"
   ]
  },
  {
   "cell_type": "code",
   "execution_count": 6,
   "id": "99fe6991-c8e1-4cbb-beed-7944afdec885",
   "metadata": {},
   "outputs": [],
   "source": [
    "def payoff_phi(n, x): \n",
    "    return np.exp(-r*n*T/N) * np.maximum(K-x, 0)"
   ]
  },
  {
   "cell_type": "code",
   "execution_count": 7,
   "id": "7466320f-07de-4253-8b9f-08e0f65c21ac",
   "metadata": {},
   "outputs": [],
   "source": [
    "M = 2**20\n",
    "sample_X = simu_BS1d(N, M)\n",
    "payoffs_Z = np.empty_like(sample_X)\n",
    "for n in range(0, N+1):\n",
    "    payoffs_Z[n] = payoff_phi(n, sample_X[n])"
   ]
  },
  {
   "cell_type": "code",
   "execution_count": 8,
   "id": "c69c71c7-3c56-4f6e-a84b-09d91f2788ba",
   "metadata": {},
   "outputs": [
    {
     "data": {
      "text/plain": [
       "(11, 1048576)"
      ]
     },
     "execution_count": 8,
     "metadata": {},
     "output_type": "execute_result"
    }
   ],
   "source": [
    "sample_X.shape "
   ]
  },
  {
   "cell_type": "code",
   "execution_count": 9,
   "id": "e10dc1c3-dd43-40b2-a284-f03426531d31",
   "metadata": {},
   "outputs": [
    {
     "data": {
      "text/plain": [
       "(11, 1048576)"
      ]
     },
     "execution_count": 9,
     "metadata": {},
     "output_type": "execute_result"
    }
   ],
   "source": [
    "payoffs_Z.shape"
   ]
  },
  {
   "cell_type": "markdown",
   "id": "aa8f6f27-9e6e-4789-8e90-67e455c45aeb",
   "metadata": {},
   "source": [
    "# Feedforward Neural Network\n",
    "\n",
    "We consider the parametric function, for a fixed $L \\ge 2$, defined as a composition of functions\n",
    "$$\n",
    "    \\Phi(x; \\theta) = A_L \\circ \\big( \\sigma \\circ A_{L-1} \\big) \\circ \\cdots \\circ \\big( \\sigma \\circ A_1 \\big)(x)\n",
    "$$\n",
    "with $\\theta = \\big( W_\\ell, \\beta_\\ell \\big)_{1 \\le \\ell \\le L}$, and for each $\\ell \\in \\{1,\\dots,L\\}$, the affine function $A_\\ell$ is given by $A_\\ell(x) = W_\\ell x + \\beta_\\ell$. The function $\\sigma$ denotes the ReLU activation function.\n"
   ]
  },
  {
   "cell_type": "code",
   "execution_count": 10,
   "id": "bf01bfc4-6af5-40ab-9923-6f9bad63d51c",
   "metadata": {},
   "outputs": [],
   "source": [
    "class NeuralNetwork(nn.Module):\n",
    "    def __init__(self, input_size, layer_sizes, output_size):\n",
    "        super().__init__()\n",
    "        layers = [ nn.Linear(input_size, layer_sizes[0]),\n",
    "                   nn.ReLU() ]\n",
    "        for (ls_in, ls_out) in zip(layer_sizes, layer_sizes[1:]):\n",
    "            layers.append(nn.Linear(ls_in, ls_out))\n",
    "            layers.append(nn.ReLU())\n",
    "        layers.append(nn.Linear(layer_sizes[-1], output_size))\n",
    "        self.linear_relu_stack = nn.Sequential(*layers)\n",
    "\n",
    "    def forward(self, x):\n",
    "        out = self.linear_relu_stack(x)\n",
    "        return out"
   ]
  },
  {
   "cell_type": "code",
   "execution_count": 11,
   "id": "53395bec-2819-4aaa-91e3-d8c1337ca191",
   "metadata": {},
   "outputs": [],
   "source": [
    "phi = NeuralNetwork(input_size=1, layer_sizes=[16, 16], output_size=1)"
   ]
  },
  {
   "cell_type": "code",
   "execution_count": 12,
   "id": "34179829-983d-427f-a669-4d8d796b613c",
   "metadata": {},
   "outputs": [
    {
     "data": {
      "text/plain": [
       "NeuralNetwork(\n",
       "  (linear_relu_stack): Sequential(\n",
       "    (0): Linear(in_features=1, out_features=16, bias=True)\n",
       "    (1): ReLU()\n",
       "    (2): Linear(in_features=16, out_features=16, bias=True)\n",
       "    (3): ReLU()\n",
       "    (4): Linear(in_features=16, out_features=1, bias=True)\n",
       "  )\n",
       ")"
      ]
     },
     "execution_count": 12,
     "metadata": {},
     "output_type": "execute_result"
    }
   ],
   "source": [
    "phi"
   ]
  },
  {
   "cell_type": "code",
   "execution_count": 13,
   "id": "4b25bd96-655f-456d-9d9b-5617328bdf77",
   "metadata": {},
   "outputs": [
    {
     "name": "stdout",
     "output_type": "stream",
     "text": [
      "Using cpu device\n"
     ]
    }
   ],
   "source": [
    "#device = \"mps\" if torch.mps.is_available() else \"cpu\"\n",
    "device = \"cpu\"\n",
    "print(f\"Using {device} device\")"
   ]
  },
  {
   "cell_type": "markdown",
   "id": "bf3aa7b8-7309-461a-bcdd-cfb9acd0f2ff",
   "metadata": {},
   "source": [
    "## Definition of a `learning` Function — **Data-Based** Approach"
   ]
  },
  {
   "cell_type": "code",
   "execution_count": 14,
   "id": "f0edcf1b-f12e-4d20-b17b-d9eb5bace03e",
   "metadata": {},
   "outputs": [],
   "source": [
    "def theta_by_learning(xj, yj, layer_sizes, n_epochs, batch_size, \n",
    "                      learning_rate=1e-3, \n",
    "                      theta_init=None, device=device):\n",
    "    data_size, input_size = xj.shape\n",
    "    n_upd = data_size // batch_size \n",
    "    \n",
    "    phi = NeuralNetwork(input_size, layer_sizes, output_size=1).to(device)\n",
    "    if theta_init is not None:\n",
    "        phi.load_state_dict(theta_init.copy())\n",
    "    optimizer = torch.optim.Adam(phi.parameters(), lr=learning_rate)\n",
    "    \n",
    "    with tqdm(range(n_epochs)) as nrange:\n",
    "        for n in nrange:\n",
    "            indexes = torch.randperm(data_size)\n",
    "            for k in range(n_upd):\n",
    "                idx = indexes[ k*batch_size : (k+1)*batch_size ] \n",
    "                loss = ((yj[idx] - phi(xj[idx]))**2).mean()\n",
    "                optimizer.zero_grad()\n",
    "                loss.backward()\n",
    "                optimizer.step()\n",
    "            nrange.set_postfix(loss=loss.item())\n",
    "    return phi.state_dict(), phi(xj)"
   ]
  },
  {
   "cell_type": "markdown",
   "id": "0ba2ed60-135a-425d-8a12-e134bf637f4c",
   "metadata": {},
   "source": [
    "# Longstaff-Schwartz Algorithm"
   ]
  },
  {
   "cell_type": "code",
   "execution_count": 15,
   "id": "6867aee9-c24d-4c10-8f39-dc961ee9d439",
   "metadata": {},
   "outputs": [],
   "source": [
    "xj_path = torch.from_numpy(sample_X.astype(np.float32)).to(device).float()\n",
    "yj_path = torch.from_numpy(payoffs_Z.astype(np.float32)).to(device).float()"
   ]
  },
  {
   "cell_type": "code",
   "execution_count": 16,
   "id": "e3378495-d2b1-43c3-8f51-d176a2d63d58",
   "metadata": {},
   "outputs": [],
   "source": [
    "cst_norm = xj_path.mean(), xj_path.std(), yj_path.mean(), yj_path.std()\n",
    "x_mean, x_std, y_mean, y_std = cst_norm\n",
    "\n",
    "def normalize_x(xi):\n",
    "    return (xi-x_mean)/x_std\n",
    "def normalize(xi, yi):\n",
    "    return (xi-x_mean)/x_std, (yi-y_mean)/y_std \n",
    "def unnormalize(xi, yi):\n",
    "    return xi*x_std + x_mean, yi*y_std + y_mean "
   ]
  },
  {
   "cell_type": "code",
   "execution_count": 17,
   "id": "eecdf068-88b6-4b8b-a789-9bfa6ad9b9ef",
   "metadata": {},
   "outputs": [],
   "source": [
    "xj_path, yj_path = normalize(xj_path, yj_path)"
   ]
  },
  {
   "cell_type": "code",
   "execution_count": 18,
   "id": "d9bd09d5-764c-4117-86d0-bf4302b888c4",
   "metadata": {},
   "outputs": [
    {
     "name": "stdout",
     "output_type": "stream",
     "text": [
      "learning at timestep: 9\n"
     ]
    },
    {
     "name": "stderr",
     "output_type": "stream",
     "text": [
      "100%|███████████████████████████████| 40/40 [02:51<00:00,  4.30s/it, loss=0.189]\n"
     ]
    },
    {
     "name": "stdout",
     "output_type": "stream",
     "text": [
      "learning at timestep: 8\n"
     ]
    },
    {
     "name": "stderr",
     "output_type": "stream",
     "text": [
      "100%|█████████████████████████████████| 5/5 [00:21<00:00,  4.34s/it, loss=0.232]\n"
     ]
    },
    {
     "name": "stdout",
     "output_type": "stream",
     "text": [
      "learning at timestep: 7\n"
     ]
    },
    {
     "name": "stderr",
     "output_type": "stream",
     "text": [
      "100%|█████████████████████████████████| 5/5 [00:31<00:00,  6.23s/it, loss=0.285]\n"
     ]
    },
    {
     "name": "stdout",
     "output_type": "stream",
     "text": [
      "learning at timestep: 6\n"
     ]
    },
    {
     "name": "stderr",
     "output_type": "stream",
     "text": [
      "100%|█████████████████████████████████| 5/5 [00:31<00:00,  6.22s/it, loss=0.338]\n"
     ]
    },
    {
     "name": "stdout",
     "output_type": "stream",
     "text": [
      "learning at timestep: 5\n"
     ]
    },
    {
     "name": "stderr",
     "output_type": "stream",
     "text": [
      "100%|█████████████████████████████████| 5/5 [00:20<00:00,  4.06s/it, loss=0.383]\n"
     ]
    },
    {
     "name": "stdout",
     "output_type": "stream",
     "text": [
      "learning at timestep: 4\n"
     ]
    },
    {
     "name": "stderr",
     "output_type": "stream",
     "text": [
      "100%|█████████████████████████████████| 5/5 [00:20<00:00,  4.14s/it, loss=0.461]\n"
     ]
    },
    {
     "name": "stdout",
     "output_type": "stream",
     "text": [
      "learning at timestep: 3\n"
     ]
    },
    {
     "name": "stderr",
     "output_type": "stream",
     "text": [
      "100%|█████████████████████████████████| 5/5 [00:23<00:00,  4.60s/it, loss=0.495]\n"
     ]
    },
    {
     "name": "stdout",
     "output_type": "stream",
     "text": [
      "learning at timestep: 2\n"
     ]
    },
    {
     "name": "stderr",
     "output_type": "stream",
     "text": [
      "100%|█████████████████████████████████| 5/5 [00:18<00:00,  3.64s/it, loss=0.589]\n"
     ]
    },
    {
     "name": "stdout",
     "output_type": "stream",
     "text": [
      "learning at timestep: 1\n"
     ]
    },
    {
     "name": "stderr",
     "output_type": "stream",
     "text": [
      "100%|█████████████████████████████████| 5/5 [00:20<00:00,  4.19s/it, loss=0.679]\n"
     ]
    }
   ],
   "source": [
    "layer_sizes = [32, 16]\n",
    "phi = NeuralNetwork(1, layer_sizes, 1).to(device)\n",
    "theta_n = phi.state_dict()\n",
    "thetas = []\n",
    "\n",
    "payoff_opt = yj_path[N].clone()\n",
    "for n in reversed(range(1, N)):\n",
    "    print(\"learning at timestep:\", n)\n",
    "    theta_n, cont_value_n =  theta_by_learning(xj_path[n][:,None], payoff_opt[:,None], \n",
    "                                               layer_sizes, \n",
    "                                               40 if n == N-1 else 5, \n",
    "                                               2*1024, theta_init = theta_n)\n",
    "    thetas.insert(0, theta_n)\n",
    "    stop_at_n = yj_path[n,:] >= cont_value_n.flatten()\n",
    "    payoff_opt[stop_at_n] = yj_path[n, stop_at_n].clone()"
   ]
  },
  {
   "cell_type": "code",
   "execution_count": 19,
   "id": "0b1a0a25-c916-4ea3-8ad2-1015010ce5a7",
   "metadata": {},
   "outputs": [],
   "source": [
    "def continuation(n, xx):\n",
    "    xx_ = normalize_x(xx)\n",
    "    phi.load_state_dict(thetas[n-1])\n",
    "    xx, yy = unnormalize(xx_ , phi(xx_))\n",
    "    return yy.numpy()"
   ]
  },
  {
   "cell_type": "code",
   "execution_count": 20,
   "id": "98248008-6afb-463c-91cf-e9a818ffdbd3",
   "metadata": {},
   "outputs": [
    {
     "data": {
      "image/png": "[encoded data removed]",
      "text/plain": [
       "<Figure size 640x480 with 1 Axes>"
      ]
     },
     "metadata": {},
     "output_type": "display_data"
    }
   ],
   "source": [
    "xx = torch.linspace(90, 130, 1000)[:,None].float()\n",
    "fig, ax = plt.subplots()\n",
    "with torch.no_grad():\n",
    "    ax.plot(xx, payoff_phi(N, xx.numpy()))\n",
    "    for n in range(1, N):\n",
    "        ax.plot(xx, continuation(n, xx), label=fr\"C{n}\")\n",
    "plt.legend()\n",
    "plt.show()"
   ]
  },
  {
   "cell_type": "code",
   "execution_count": 21,
   "id": "64320f40-e641-4d16-ba0b-dc48ba93805d",
   "metadata": {},
   "outputs": [
    {
     "data": {
      "text/plain": [
       "{'mean': np.float32(11.977382),\n",
       " 'var': np.float32(84.7854),\n",
       " 'lower': np.float64(11.959757535733116),\n",
       " 'upper': np.float64(11.99500587674247)}"
      ]
     },
     "execution_count": 21,
     "metadata": {},
     "output_type": "execute_result"
    }
   ],
   "source": [
    "sample = y_mean + payoff_opt*y_std\n",
    "monte_carlo(sample.detach().numpy().flatten())"
   ]
  },
  {
   "cell_type": "code",
   "execution_count": 22,
   "id": "2b6f8e64-2da2-45b8-909f-7b86a7786bb9",
   "metadata": {},
   "outputs": [],
   "source": [
    "# thetas"
   ]
  },
  {
   "cell_type": "markdown",
   "id": "a584158e-4762-461d-a073-5e8ebb27a18a",
   "metadata": {
    "tags": []
   },
   "source": [
    "# Repricing on New Trajectories"
   ]
  },
  {
   "cell_type": "code",
   "execution_count": 23,
   "id": "5d601d2c-9ffb-465e-9f77-c83e76e32c6a",
   "metadata": {},
   "outputs": [],
   "source": [
    "def simu_data_torch(size_sample, device=device): \n",
    "    h = T/N\n",
    "    brown_acc = np.sqrt(h)*torch.randn(size=(N, size_sample), device=device)\n",
    "    sample_X = torch.zeros(size=(N+1, size_sample))\n",
    "    sample_X[0] = x0\n",
    "    for n in range(1, N+1):\n",
    "        sample_X[n] = sample_X[n-1] * torch.exp((r - 0.5 * sigma**2)*h + sigma*brown_acc[n-1])\n",
    "\n",
    "    payoffs_Z = torch.empty_like(sample_X)\n",
    "    for n in range(0, N+1):\n",
    "        payoffs_Z[n] = np.exp(-r*n*h) * torch.relu(K-sample_X[n])\n",
    "    return normalize(sample_X, payoffs_Z)"
   ]
  },
  {
   "cell_type": "code",
   "execution_count": 24,
   "id": "5d3e95b5-b9e3-4b00-9039-60ec96012bbd",
   "metadata": {},
   "outputs": [],
   "source": [
    "sample_size = 2**22\n",
    "xj_path, yj_path = simu_data_torch(sample_size)"
   ]
  },
  {
   "cell_type": "code",
   "execution_count": 25,
   "id": "996301b0-8a58-472f-a692-e5b71de50957",
   "metadata": {},
   "outputs": [],
   "source": [
    "payoff_opt = yj_path[N].clone()\n",
    "for n in reversed(range(1, N)):\n",
    "    phi.load_state_dict(thetas[n-1])\n",
    "    with torch.no_grad():\n",
    "        cont_at_n = phi(xj_path[n,:][:,None]).flatten()\n",
    "    stop_at_n = yj_path[n,:] >= cont_at_n\n",
    "    payoff_opt[stop_at_n] = yj_path[n, stop_at_n].clone()"
   ]
  },
  {
   "cell_type": "code",
   "execution_count": 26,
   "id": "d35d693c-2053-4853-b974-689f8dd8ae47",
   "metadata": {
    "tags": []
   },
   "outputs": [
    {
     "data": {
      "text/plain": [
       "{'mean': np.float32(11.981017),\n",
       " 'var': np.float32(84.65418),\n",
       " 'lower': np.float64(11.972211849757752),\n",
       " 'upper': np.float64(11.989822375706115)}"
      ]
     },
     "execution_count": 26,
     "metadata": {},
     "output_type": "execute_result"
    }
   ],
   "source": [
    "sample = y_mean + payoff_opt*y_std\n",
    "monte_carlo(sample.detach().numpy().flatten())"
   ]
  }
 ],
 "metadata": {
  "kernelspec": {
   "display_name": "Python 3 (ipykernel)",
   "language": "python",
   "name": "python3"
  },
  "language_info": {
   "codemirror_mode": {
    "name": "ipython",
    "version": 3
   },
   "file_extension": ".py",
   "mimetype": "text/x-python",
   "name": "python",
   "nbconvert_exporter": "python",
   "pygments_lexer": "ipython3",
   "version": "3.12.2"
  }
 },
 "nbformat": 4,
 "nbformat_minor": 5
}
